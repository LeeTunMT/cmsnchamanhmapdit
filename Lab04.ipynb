{
  "nbformat": 4,
  "nbformat_minor": 0,
  "metadata": {
    "colab": {
      "provenance": [],
      "include_colab_link": true
    },
    "kernelspec": {
      "name": "python3",
      "display_name": "Python 3"
    },
    "language_info": {
      "name": "python"
    }
  },
  "cells": [
    {
      "cell_type": "markdown",
      "metadata": {
        "id": "view-in-github",
        "colab_type": "text"
      },
      "source": [
        "<a href=\"https://colab.research.google.com/github/LeeTunMT/cmsnchamanhmapdit/blob/main/Lab04.ipynb\" target=\"_parent\"><img src=\"https://colab.research.google.com/assets/colab-badge.svg\" alt=\"Open In Colab\"/></a>"
      ]
    },
    {
      "cell_type": "markdown",
      "source": [
        "# KMean Clustering"
      ],
      "metadata": {
        "id": "K4oBqdWj6x--"
      }
    },
    {
      "cell_type": "markdown",
      "source": [
        "## Import libraries, dataset and show dataset"
      ],
      "metadata": {
        "id": "rOra4T4Y63Vu"
      }
    },
    {
      "cell_type": "code",
      "execution_count": null,
      "metadata": {
        "id": "Bay3DEII2ozt"
      },
      "outputs": [],
      "source": [
        "import scipy\n",
        "import numpy as np\n",
        "import pandas as pd\n",
        "import matplotlib.pyplot as plt\n",
        "import plotly.graph_objects as go\n",
        "import math\n",
        "from scipy.spatial import distance\n",
        "from sklearn.cluster import KMeans"
      ]
    },
    {
      "cell_type": "code",
      "source": [
        "college = pd.read_csv('https://raw.githubusercontent.com/hoang11235813/NMKHDL_datasets/main/College.csv', index_col = 0)"
      ],
      "metadata": {
        "id": "7qAlP8Of2yN9"
      },
      "execution_count": null,
      "outputs": []
    },
    {
      "cell_type": "code",
      "source": [
        "college.head(10)"
      ],
      "metadata": {
        "colab": {
          "base_uri": "https://localhost:8080/",
          "height": 643
        },
        "id": "HfWH8A8O26KU",
        "outputId": "c99a56c9-7662-418d-9ee8-a5b2af55f1b6"
      },
      "execution_count": null,
      "outputs": [
        {
          "output_type": "execute_result",
          "data": {
            "text/plain": [
              "                             Private  Apps  Accept  Enroll  Top10perc  \\\n",
              "Abilene Christian University     Yes  1660    1232     721         23   \n",
              "Adelphi University               Yes  2186    1924     512         16   \n",
              "Adrian College                   Yes  1428    1097     336         22   \n",
              "Agnes Scott College              Yes   417     349     137         60   \n",
              "Alaska Pacific University        Yes   193     146      55         16   \n",
              "Albertson College                Yes   587     479     158         38   \n",
              "Albertus Magnus College          Yes   353     340     103         17   \n",
              "Albion College                   Yes  1899    1720     489         37   \n",
              "Albright College                 Yes  1038     839     227         30   \n",
              "Alderson-Broaddus College        Yes   582     498     172         21   \n",
              "\n",
              "                              Top25perc  F.Undergrad  P.Undergrad  Outstate  \\\n",
              "Abilene Christian University         52         2885          537      7440   \n",
              "Adelphi University                   29         2683         1227     12280   \n",
              "Adrian College                       50         1036           99     11250   \n",
              "Agnes Scott College                  89          510           63     12960   \n",
              "Alaska Pacific University            44          249          869      7560   \n",
              "Albertson College                    62          678           41     13500   \n",
              "Albertus Magnus College              45          416          230     13290   \n",
              "Albion College                       68         1594           32     13868   \n",
              "Albright College                     63          973          306     15595   \n",
              "Alderson-Broaddus College            44          799           78     10468   \n",
              "\n",
              "                              Room.Board  Books  Personal  PhD  Terminal  \\\n",
              "Abilene Christian University        3300    450      2200   70        78   \n",
              "Adelphi University                  6450    750      1500   29        30   \n",
              "Adrian College                      3750    400      1165   53        66   \n",
              "Agnes Scott College                 5450    450       875   92        97   \n",
              "Alaska Pacific University           4120    800      1500   76        72   \n",
              "Albertson College                   3335    500       675   67        73   \n",
              "Albertus Magnus College             5720    500      1500   90        93   \n",
              "Albion College                      4826    450       850   89       100   \n",
              "Albright College                    4400    300       500   79        84   \n",
              "Alderson-Broaddus College           3380    660      1800   40        41   \n",
              "\n",
              "                              S.F.Ratio  perc.alumni  Expend  Grad.Rate  \n",
              "Abilene Christian University       18.1           12    7041         60  \n",
              "Adelphi University                 12.2           16   10527         56  \n",
              "Adrian College                     12.9           30    8735         54  \n",
              "Agnes Scott College                 7.7           37   19016         59  \n",
              "Alaska Pacific University          11.9            2   10922         15  \n",
              "Albertson College                   9.4           11    9727         55  \n",
              "Albertus Magnus College            11.5           26    8861         63  \n",
              "Albion College                     13.7           37   11487         73  \n",
              "Albright College                   11.3           23   11644         80  \n",
              "Alderson-Broaddus College          11.5           15    8991         52  "
            ],
            "text/html": [
              "\n",
              "  <div id=\"df-c7418a3f-e560-44c4-bc85-89b0e526b2ea\" class=\"colab-df-container\">\n",
              "    <div>\n",
              "<style scoped>\n",
              "    .dataframe tbody tr th:only-of-type {\n",
              "        vertical-align: middle;\n",
              "    }\n",
              "\n",
              "    .dataframe tbody tr th {\n",
              "        vertical-align: top;\n",
              "    }\n",
              "\n",
              "    .dataframe thead th {\n",
              "        text-align: right;\n",
              "    }\n",
              "</style>\n",
              "<table border=\"1\" class=\"dataframe\">\n",
              "  <thead>\n",
              "    <tr style=\"text-align: right;\">\n",
              "      <th></th>\n",
              "      <th>Private</th>\n",
              "      <th>Apps</th>\n",
              "      <th>Accept</th>\n",
              "      <th>Enroll</th>\n",
              "      <th>Top10perc</th>\n",
              "      <th>Top25perc</th>\n",
              "      <th>F.Undergrad</th>\n",
              "      <th>P.Undergrad</th>\n",
              "      <th>Outstate</th>\n",
              "      <th>Room.Board</th>\n",
              "      <th>Books</th>\n",
              "      <th>Personal</th>\n",
              "      <th>PhD</th>\n",
              "      <th>Terminal</th>\n",
              "      <th>S.F.Ratio</th>\n",
              "      <th>perc.alumni</th>\n",
              "      <th>Expend</th>\n",
              "      <th>Grad.Rate</th>\n",
              "    </tr>\n",
              "  </thead>\n",
              "  <tbody>\n",
              "    <tr>\n",
              "      <th>Abilene Christian University</th>\n",
              "      <td>Yes</td>\n",
              "      <td>1660</td>\n",
              "      <td>1232</td>\n",
              "      <td>721</td>\n",
              "      <td>23</td>\n",
              "      <td>52</td>\n",
              "      <td>2885</td>\n",
              "      <td>537</td>\n",
              "      <td>7440</td>\n",
              "      <td>3300</td>\n",
              "      <td>450</td>\n",
              "      <td>2200</td>\n",
              "      <td>70</td>\n",
              "      <td>78</td>\n",
              "      <td>18.1</td>\n",
              "      <td>12</td>\n",
              "      <td>7041</td>\n",
              "      <td>60</td>\n",
              "    </tr>\n",
              "    <tr>\n",
              "      <th>Adelphi University</th>\n",
              "      <td>Yes</td>\n",
              "      <td>2186</td>\n",
              "      <td>1924</td>\n",
              "      <td>512</td>\n",
              "      <td>16</td>\n",
              "      <td>29</td>\n",
              "      <td>2683</td>\n",
              "      <td>1227</td>\n",
              "      <td>12280</td>\n",
              "      <td>6450</td>\n",
              "      <td>750</td>\n",
              "      <td>1500</td>\n",
              "      <td>29</td>\n",
              "      <td>30</td>\n",
              "      <td>12.2</td>\n",
              "      <td>16</td>\n",
              "      <td>10527</td>\n",
              "      <td>56</td>\n",
              "    </tr>\n",
              "    <tr>\n",
              "      <th>Adrian College</th>\n",
              "      <td>Yes</td>\n",
              "      <td>1428</td>\n",
              "      <td>1097</td>\n",
              "      <td>336</td>\n",
              "      <td>22</td>\n",
              "      <td>50</td>\n",
              "      <td>1036</td>\n",
              "      <td>99</td>\n",
              "      <td>11250</td>\n",
              "      <td>3750</td>\n",
              "      <td>400</td>\n",
              "      <td>1165</td>\n",
              "      <td>53</td>\n",
              "      <td>66</td>\n",
              "      <td>12.9</td>\n",
              "      <td>30</td>\n",
              "      <td>8735</td>\n",
              "      <td>54</td>\n",
              "    </tr>\n",
              "    <tr>\n",
              "      <th>Agnes Scott College</th>\n",
              "      <td>Yes</td>\n",
              "      <td>417</td>\n",
              "      <td>349</td>\n",
              "      <td>137</td>\n",
              "      <td>60</td>\n",
              "      <td>89</td>\n",
              "      <td>510</td>\n",
              "      <td>63</td>\n",
              "      <td>12960</td>\n",
              "      <td>5450</td>\n",
              "      <td>450</td>\n",
              "      <td>875</td>\n",
              "      <td>92</td>\n",
              "      <td>97</td>\n",
              "      <td>7.7</td>\n",
              "      <td>37</td>\n",
              "      <td>19016</td>\n",
              "      <td>59</td>\n",
              "    </tr>\n",
              "    <tr>\n",
              "      <th>Alaska Pacific University</th>\n",
              "      <td>Yes</td>\n",
              "      <td>193</td>\n",
              "      <td>146</td>\n",
              "      <td>55</td>\n",
              "      <td>16</td>\n",
              "      <td>44</td>\n",
              "      <td>249</td>\n",
              "      <td>869</td>\n",
              "      <td>7560</td>\n",
              "      <td>4120</td>\n",
              "      <td>800</td>\n",
              "      <td>1500</td>\n",
              "      <td>76</td>\n",
              "      <td>72</td>\n",
              "      <td>11.9</td>\n",
              "      <td>2</td>\n",
              "      <td>10922</td>\n",
              "      <td>15</td>\n",
              "    </tr>\n",
              "    <tr>\n",
              "      <th>Albertson College</th>\n",
              "      <td>Yes</td>\n",
              "      <td>587</td>\n",
              "      <td>479</td>\n",
              "      <td>158</td>\n",
              "      <td>38</td>\n",
              "      <td>62</td>\n",
              "      <td>678</td>\n",
              "      <td>41</td>\n",
              "      <td>13500</td>\n",
              "      <td>3335</td>\n",
              "      <td>500</td>\n",
              "      <td>675</td>\n",
              "      <td>67</td>\n",
              "      <td>73</td>\n",
              "      <td>9.4</td>\n",
              "      <td>11</td>\n",
              "      <td>9727</td>\n",
              "      <td>55</td>\n",
              "    </tr>\n",
              "    <tr>\n",
              "      <th>Albertus Magnus College</th>\n",
              "      <td>Yes</td>\n",
              "      <td>353</td>\n",
              "      <td>340</td>\n",
              "      <td>103</td>\n",
              "      <td>17</td>\n",
              "      <td>45</td>\n",
              "      <td>416</td>\n",
              "      <td>230</td>\n",
              "      <td>13290</td>\n",
              "      <td>5720</td>\n",
              "      <td>500</td>\n",
              "      <td>1500</td>\n",
              "      <td>90</td>\n",
              "      <td>93</td>\n",
              "      <td>11.5</td>\n",
              "      <td>26</td>\n",
              "      <td>8861</td>\n",
              "      <td>63</td>\n",
              "    </tr>\n",
              "    <tr>\n",
              "      <th>Albion College</th>\n",
              "      <td>Yes</td>\n",
              "      <td>1899</td>\n",
              "      <td>1720</td>\n",
              "      <td>489</td>\n",
              "      <td>37</td>\n",
              "      <td>68</td>\n",
              "      <td>1594</td>\n",
              "      <td>32</td>\n",
              "      <td>13868</td>\n",
              "      <td>4826</td>\n",
              "      <td>450</td>\n",
              "      <td>850</td>\n",
              "      <td>89</td>\n",
              "      <td>100</td>\n",
              "      <td>13.7</td>\n",
              "      <td>37</td>\n",
              "      <td>11487</td>\n",
              "      <td>73</td>\n",
              "    </tr>\n",
              "    <tr>\n",
              "      <th>Albright College</th>\n",
              "      <td>Yes</td>\n",
              "      <td>1038</td>\n",
              "      <td>839</td>\n",
              "      <td>227</td>\n",
              "      <td>30</td>\n",
              "      <td>63</td>\n",
              "      <td>973</td>\n",
              "      <td>306</td>\n",
              "      <td>15595</td>\n",
              "      <td>4400</td>\n",
              "      <td>300</td>\n",
              "      <td>500</td>\n",
              "      <td>79</td>\n",
              "      <td>84</td>\n",
              "      <td>11.3</td>\n",
              "      <td>23</td>\n",
              "      <td>11644</td>\n",
              "      <td>80</td>\n",
              "    </tr>\n",
              "    <tr>\n",
              "      <th>Alderson-Broaddus College</th>\n",
              "      <td>Yes</td>\n",
              "      <td>582</td>\n",
              "      <td>498</td>\n",
              "      <td>172</td>\n",
              "      <td>21</td>\n",
              "      <td>44</td>\n",
              "      <td>799</td>\n",
              "      <td>78</td>\n",
              "      <td>10468</td>\n",
              "      <td>3380</td>\n",
              "      <td>660</td>\n",
              "      <td>1800</td>\n",
              "      <td>40</td>\n",
              "      <td>41</td>\n",
              "      <td>11.5</td>\n",
              "      <td>15</td>\n",
              "      <td>8991</td>\n",
              "      <td>52</td>\n",
              "    </tr>\n",
              "  </tbody>\n",
              "</table>\n",
              "</div>\n",
              "    <div class=\"colab-df-buttons\">\n",
              "\n",
              "  <div class=\"colab-df-container\">\n",
              "    <button class=\"colab-df-convert\" onclick=\"convertToInteractive('df-c7418a3f-e560-44c4-bc85-89b0e526b2ea')\"\n",
              "            title=\"Convert this dataframe to an interactive table.\"\n",
              "            style=\"display:none;\">\n",
              "\n",
              "  <svg xmlns=\"http://www.w3.org/2000/svg\" height=\"24px\" viewBox=\"0 -960 960 960\">\n",
              "    <path d=\"M120-120v-720h720v720H120Zm60-500h600v-160H180v160Zm220 220h160v-160H400v160Zm0 220h160v-160H400v160ZM180-400h160v-160H180v160Zm440 0h160v-160H620v160ZM180-180h160v-160H180v160Zm440 0h160v-160H620v160Z\"/>\n",
              "  </svg>\n",
              "    </button>\n",
              "\n",
              "  <style>\n",
              "    .colab-df-container {\n",
              "      display:flex;\n",
              "      gap: 12px;\n",
              "    }\n",
              "\n",
              "    .colab-df-convert {\n",
              "      background-color: #E8F0FE;\n",
              "      border: none;\n",
              "      border-radius: 50%;\n",
              "      cursor: pointer;\n",
              "      display: none;\n",
              "      fill: #1967D2;\n",
              "      height: 32px;\n",
              "      padding: 0 0 0 0;\n",
              "      width: 32px;\n",
              "    }\n",
              "\n",
              "    .colab-df-convert:hover {\n",
              "      background-color: #E2EBFA;\n",
              "      box-shadow: 0px 1px 2px rgba(60, 64, 67, 0.3), 0px 1px 3px 1px rgba(60, 64, 67, 0.15);\n",
              "      fill: #174EA6;\n",
              "    }\n",
              "\n",
              "    .colab-df-buttons div {\n",
              "      margin-bottom: 4px;\n",
              "    }\n",
              "\n",
              "    [theme=dark] .colab-df-convert {\n",
              "      background-color: #3B4455;\n",
              "      fill: #D2E3FC;\n",
              "    }\n",
              "\n",
              "    [theme=dark] .colab-df-convert:hover {\n",
              "      background-color: #434B5C;\n",
              "      box-shadow: 0px 1px 3px 1px rgba(0, 0, 0, 0.15);\n",
              "      filter: drop-shadow(0px 1px 2px rgba(0, 0, 0, 0.3));\n",
              "      fill: #FFFFFF;\n",
              "    }\n",
              "  </style>\n",
              "\n",
              "    <script>\n",
              "      const buttonEl =\n",
              "        document.querySelector('#df-c7418a3f-e560-44c4-bc85-89b0e526b2ea button.colab-df-convert');\n",
              "      buttonEl.style.display =\n",
              "        google.colab.kernel.accessAllowed ? 'block' : 'none';\n",
              "\n",
              "      async function convertToInteractive(key) {\n",
              "        const element = document.querySelector('#df-c7418a3f-e560-44c4-bc85-89b0e526b2ea');\n",
              "        const dataTable =\n",
              "          await google.colab.kernel.invokeFunction('convertToInteractive',\n",
              "                                                    [key], {});\n",
              "        if (!dataTable) return;\n",
              "\n",
              "        const docLinkHtml = 'Like what you see? Visit the ' +\n",
              "          '<a target=\"_blank\" href=https://colab.research.google.com/notebooks/data_table.ipynb>data table notebook</a>'\n",
              "          + ' to learn more about interactive tables.';\n",
              "        element.innerHTML = '';\n",
              "        dataTable['output_type'] = 'display_data';\n",
              "        await google.colab.output.renderOutput(dataTable, element);\n",
              "        const docLink = document.createElement('div');\n",
              "        docLink.innerHTML = docLinkHtml;\n",
              "        element.appendChild(docLink);\n",
              "      }\n",
              "    </script>\n",
              "  </div>\n",
              "\n",
              "\n",
              "<div id=\"df-00474872-04c3-4d49-b586-8d44da068fc6\">\n",
              "  <button class=\"colab-df-quickchart\" onclick=\"quickchart('df-00474872-04c3-4d49-b586-8d44da068fc6')\"\n",
              "            title=\"Suggest charts\"\n",
              "            style=\"display:none;\">\n",
              "\n",
              "<svg xmlns=\"http://www.w3.org/2000/svg\" height=\"24px\"viewBox=\"0 0 24 24\"\n",
              "     width=\"24px\">\n",
              "    <g>\n",
              "        <path d=\"M19 3H5c-1.1 0-2 .9-2 2v14c0 1.1.9 2 2 2h14c1.1 0 2-.9 2-2V5c0-1.1-.9-2-2-2zM9 17H7v-7h2v7zm4 0h-2V7h2v10zm4 0h-2v-4h2v4z\"/>\n",
              "    </g>\n",
              "</svg>\n",
              "  </button>\n",
              "\n",
              "<style>\n",
              "  .colab-df-quickchart {\n",
              "      --bg-color: #E8F0FE;\n",
              "      --fill-color: #1967D2;\n",
              "      --hover-bg-color: #E2EBFA;\n",
              "      --hover-fill-color: #174EA6;\n",
              "      --disabled-fill-color: #AAA;\n",
              "      --disabled-bg-color: #DDD;\n",
              "  }\n",
              "\n",
              "  [theme=dark] .colab-df-quickchart {\n",
              "      --bg-color: #3B4455;\n",
              "      --fill-color: #D2E3FC;\n",
              "      --hover-bg-color: #434B5C;\n",
              "      --hover-fill-color: #FFFFFF;\n",
              "      --disabled-bg-color: #3B4455;\n",
              "      --disabled-fill-color: #666;\n",
              "  }\n",
              "\n",
              "  .colab-df-quickchart {\n",
              "    background-color: var(--bg-color);\n",
              "    border: none;\n",
              "    border-radius: 50%;\n",
              "    cursor: pointer;\n",
              "    display: none;\n",
              "    fill: var(--fill-color);\n",
              "    height: 32px;\n",
              "    padding: 0;\n",
              "    width: 32px;\n",
              "  }\n",
              "\n",
              "  .colab-df-quickchart:hover {\n",
              "    background-color: var(--hover-bg-color);\n",
              "    box-shadow: 0 1px 2px rgba(60, 64, 67, 0.3), 0 1px 3px 1px rgba(60, 64, 67, 0.15);\n",
              "    fill: var(--button-hover-fill-color);\n",
              "  }\n",
              "\n",
              "  .colab-df-quickchart-complete:disabled,\n",
              "  .colab-df-quickchart-complete:disabled:hover {\n",
              "    background-color: var(--disabled-bg-color);\n",
              "    fill: var(--disabled-fill-color);\n",
              "    box-shadow: none;\n",
              "  }\n",
              "\n",
              "  .colab-df-spinner {\n",
              "    border: 2px solid var(--fill-color);\n",
              "    border-color: transparent;\n",
              "    border-bottom-color: var(--fill-color);\n",
              "    animation:\n",
              "      spin 1s steps(1) infinite;\n",
              "  }\n",
              "\n",
              "  @keyframes spin {\n",
              "    0% {\n",
              "      border-color: transparent;\n",
              "      border-bottom-color: var(--fill-color);\n",
              "      border-left-color: var(--fill-color);\n",
              "    }\n",
              "    20% {\n",
              "      border-color: transparent;\n",
              "      border-left-color: var(--fill-color);\n",
              "      border-top-color: var(--fill-color);\n",
              "    }\n",
              "    30% {\n",
              "      border-color: transparent;\n",
              "      border-left-color: var(--fill-color);\n",
              "      border-top-color: var(--fill-color);\n",
              "      border-right-color: var(--fill-color);\n",
              "    }\n",
              "    40% {\n",
              "      border-color: transparent;\n",
              "      border-right-color: var(--fill-color);\n",
              "      border-top-color: var(--fill-color);\n",
              "    }\n",
              "    60% {\n",
              "      border-color: transparent;\n",
              "      border-right-color: var(--fill-color);\n",
              "    }\n",
              "    80% {\n",
              "      border-color: transparent;\n",
              "      border-right-color: var(--fill-color);\n",
              "      border-bottom-color: var(--fill-color);\n",
              "    }\n",
              "    90% {\n",
              "      border-color: transparent;\n",
              "      border-bottom-color: var(--fill-color);\n",
              "    }\n",
              "  }\n",
              "</style>\n",
              "\n",
              "  <script>\n",
              "    async function quickchart(key) {\n",
              "      const quickchartButtonEl =\n",
              "        document.querySelector('#' + key + ' button');\n",
              "      quickchartButtonEl.disabled = true;  // To prevent multiple clicks.\n",
              "      quickchartButtonEl.classList.add('colab-df-spinner');\n",
              "      try {\n",
              "        const charts = await google.colab.kernel.invokeFunction(\n",
              "            'suggestCharts', [key], {});\n",
              "      } catch (error) {\n",
              "        console.error('Error during call to suggestCharts:', error);\n",
              "      }\n",
              "      quickchartButtonEl.classList.remove('colab-df-spinner');\n",
              "      quickchartButtonEl.classList.add('colab-df-quickchart-complete');\n",
              "    }\n",
              "    (() => {\n",
              "      let quickchartButtonEl =\n",
              "        document.querySelector('#df-00474872-04c3-4d49-b586-8d44da068fc6 button');\n",
              "      quickchartButtonEl.style.display =\n",
              "        google.colab.kernel.accessAllowed ? 'block' : 'none';\n",
              "    })();\n",
              "  </script>\n",
              "</div>\n",
              "\n",
              "    </div>\n",
              "  </div>\n"
            ],
            "application/vnd.google.colaboratory.intrinsic+json": {
              "type": "dataframe",
              "variable_name": "college",
              "summary": "{\n  \"name\": \"college\",\n  \"rows\": 777,\n  \"fields\": [\n    {\n      \"column\": \"Private\",\n      \"properties\": {\n        \"dtype\": \"category\",\n        \"num_unique_values\": 2,\n        \"samples\": [\n          \"No\",\n          \"Yes\"\n        ],\n        \"semantic_type\": \"\",\n        \"description\": \"\"\n      }\n    },\n    {\n      \"column\": \"Apps\",\n      \"properties\": {\n        \"dtype\": \"number\",\n        \"std\": 3870,\n        \"min\": 81,\n        \"max\": 48094,\n        \"num_unique_values\": 711,\n        \"samples\": [\n          323,\n          1127\n        ],\n        \"semantic_type\": \"\",\n        \"description\": \"\"\n      }\n    },\n    {\n      \"column\": \"Accept\",\n      \"properties\": {\n        \"dtype\": \"number\",\n        \"std\": 2451,\n        \"min\": 72,\n        \"max\": 26330,\n        \"num_unique_values\": 693,\n        \"samples\": [\n          689,\n          1623\n        ],\n        \"semantic_type\": \"\",\n        \"description\": \"\"\n      }\n    },\n    {\n      \"column\": \"Enroll\",\n      \"properties\": {\n        \"dtype\": \"number\",\n        \"std\": 929,\n        \"min\": 35,\n        \"max\": 6392,\n        \"num_unique_values\": 581,\n        \"samples\": [\n          769,\n          223\n        ],\n        \"semantic_type\": \"\",\n        \"description\": \"\"\n      }\n    },\n    {\n      \"column\": \"Top10perc\",\n      \"properties\": {\n        \"dtype\": \"number\",\n        \"std\": 17,\n        \"min\": 1,\n        \"max\": 96,\n        \"num_unique_values\": 82,\n        \"samples\": [\n          67,\n          23\n        ],\n        \"semantic_type\": \"\",\n        \"description\": \"\"\n      }\n    },\n    {\n      \"column\": \"Top25perc\",\n      \"properties\": {\n        \"dtype\": \"number\",\n        \"std\": 19,\n        \"min\": 9,\n        \"max\": 100,\n        \"num_unique_values\": 89,\n        \"samples\": [\n          100,\n          65\n        ],\n        \"semantic_type\": \"\",\n        \"description\": \"\"\n      }\n    },\n    {\n      \"column\": \"F.Undergrad\",\n      \"properties\": {\n        \"dtype\": \"number\",\n        \"std\": 4850,\n        \"min\": 139,\n        \"max\": 31643,\n        \"num_unique_values\": 714,\n        \"samples\": [\n          2649,\n          2997\n        ],\n        \"semantic_type\": \"\",\n        \"description\": \"\"\n      }\n    },\n    {\n      \"column\": \"P.Undergrad\",\n      \"properties\": {\n        \"dtype\": \"number\",\n        \"std\": 1522,\n        \"min\": 1,\n        \"max\": 21836,\n        \"num_unique_values\": 566,\n        \"samples\": [\n          1344,\n          1552\n        ],\n        \"semantic_type\": \"\",\n        \"description\": \"\"\n      }\n    },\n    {\n      \"column\": \"Outstate\",\n      \"properties\": {\n        \"dtype\": \"number\",\n        \"std\": 4023,\n        \"min\": 2340,\n        \"max\": 21700,\n        \"num_unique_values\": 640,\n        \"samples\": [\n          5764,\n          6995\n        ],\n        \"semantic_type\": \"\",\n        \"description\": \"\"\n      }\n    },\n    {\n      \"column\": \"Room.Board\",\n      \"properties\": {\n        \"dtype\": \"number\",\n        \"std\": 1096,\n        \"min\": 1780,\n        \"max\": 8124,\n        \"num_unique_values\": 553,\n        \"samples\": [\n          3392,\n          3150\n        ],\n        \"semantic_type\": \"\",\n        \"description\": \"\"\n      }\n    },\n    {\n      \"column\": \"Books\",\n      \"properties\": {\n        \"dtype\": \"number\",\n        \"std\": 165,\n        \"min\": 96,\n        \"max\": 2340,\n        \"num_unique_values\": 122,\n        \"samples\": [\n          475,\n          670\n        ],\n        \"semantic_type\": \"\",\n        \"description\": \"\"\n      }\n    },\n    {\n      \"column\": \"Personal\",\n      \"properties\": {\n        \"dtype\": \"number\",\n        \"std\": 677,\n        \"min\": 250,\n        \"max\": 6800,\n        \"num_unique_values\": 294,\n        \"samples\": [\n          250,\n          1000\n        ],\n        \"semantic_type\": \"\",\n        \"description\": \"\"\n      }\n    },\n    {\n      \"column\": \"PhD\",\n      \"properties\": {\n        \"dtype\": \"number\",\n        \"std\": 16,\n        \"min\": 8,\n        \"max\": 103,\n        \"num_unique_values\": 78,\n        \"samples\": [\n          61,\n          70\n        ],\n        \"semantic_type\": \"\",\n        \"description\": \"\"\n      }\n    },\n    {\n      \"column\": \"Terminal\",\n      \"properties\": {\n        \"dtype\": \"number\",\n        \"std\": 14,\n        \"min\": 24,\n        \"max\": 100,\n        \"num_unique_values\": 65,\n        \"samples\": [\n          43,\n          54\n        ],\n        \"semantic_type\": \"\",\n        \"description\": \"\"\n      }\n    },\n    {\n      \"column\": \"S.F.Ratio\",\n      \"properties\": {\n        \"dtype\": \"number\",\n        \"std\": 3.958349135205549,\n        \"min\": 2.5,\n        \"max\": 39.8,\n        \"num_unique_values\": 173,\n        \"samples\": [\n          25.3,\n          14.0\n        ],\n        \"semantic_type\": \"\",\n        \"description\": \"\"\n      }\n    },\n    {\n      \"column\": \"perc.alumni\",\n      \"properties\": {\n        \"dtype\": \"number\",\n        \"std\": 12,\n        \"min\": 0,\n        \"max\": 64,\n        \"num_unique_values\": 61,\n        \"samples\": [\n          12,\n          11\n        ],\n        \"semantic_type\": \"\",\n        \"description\": \"\"\n      }\n    },\n    {\n      \"column\": \"Expend\",\n      \"properties\": {\n        \"dtype\": \"number\",\n        \"std\": 5221,\n        \"min\": 3186,\n        \"max\": 56233,\n        \"num_unique_values\": 744,\n        \"samples\": [\n          17500,\n          13705\n        ],\n        \"semantic_type\": \"\",\n        \"description\": \"\"\n      }\n    },\n    {\n      \"column\": \"Grad.Rate\",\n      \"properties\": {\n        \"dtype\": \"number\",\n        \"std\": 17,\n        \"min\": 10,\n        \"max\": 118,\n        \"num_unique_values\": 81,\n        \"samples\": [\n          35,\n          60\n        ],\n        \"semantic_type\": \"\",\n        \"description\": \"\"\n      }\n    }\n  ]\n}"
            }
          },
          "metadata": {},
          "execution_count": 3
        }
      ]
    },
    {
      "cell_type": "markdown",
      "source": [
        "## I. Data preprocessing"
      ],
      "metadata": {
        "id": "169PsanmprYb"
      }
    },
    {
      "cell_type": "code",
      "source": [
        "# Check for NULL values\n",
        "college.isnull().sum()"
      ],
      "metadata": {
        "colab": {
          "base_uri": "https://localhost:8080/"
        },
        "id": "Bkp1e4hy5ueS",
        "outputId": "46e19692-c7ab-4073-9b1a-6d07c5af362d"
      },
      "execution_count": null,
      "outputs": [
        {
          "output_type": "execute_result",
          "data": {
            "text/plain": [
              "Private        0\n",
              "Apps           0\n",
              "Accept         0\n",
              "Enroll         0\n",
              "Top10perc      0\n",
              "Top25perc      0\n",
              "F.Undergrad    0\n",
              "P.Undergrad    0\n",
              "Outstate       0\n",
              "Room.Board     0\n",
              "Books          0\n",
              "Personal       0\n",
              "PhD            0\n",
              "Terminal       0\n",
              "S.F.Ratio      0\n",
              "perc.alumni    0\n",
              "Expend         0\n",
              "Grad.Rate      0\n",
              "dtype: int64"
            ]
          },
          "metadata": {},
          "execution_count": 4
        }
      ]
    },
    {
      "cell_type": "markdown",
      "source": [
        "There are no NULL values for each column so we are ready to split dataset into features and label (which is Private column)"
      ],
      "metadata": {
        "id": "-gHfi1cQeiDt"
      }
    },
    {
      "cell_type": "code",
      "source": [
        "X, y = college.values[:, 1:],college.values[:, 0]"
      ],
      "metadata": {
        "id": "SfJgCRj36u6w"
      },
      "execution_count": null,
      "outputs": []
    },
    {
      "cell_type": "markdown",
      "source": [
        "Now I'll change X dtype cause I'm gonna use cdist for KMeans class and cdist doesn't accept object dtype.\n",
        "\n",
        "Also encode y because categorical value (Yes: 1, No: 0)"
      ],
      "metadata": {
        "id": "piywyV2CfMqq"
      }
    },
    {
      "cell_type": "code",
      "source": [
        "X = X.astype('float64')\n",
        "d = {'Yes': 1, 'No': 0}\n",
        "y = np.array([d[i] for i in y], dtype = 'int32')"
      ],
      "metadata": {
        "id": "OTu1EDQCB8eL"
      },
      "execution_count": null,
      "outputs": []
    },
    {
      "cell_type": "markdown",
      "source": [
        "## II. Implement the KMeans clustering algorithm from scratch"
      ],
      "metadata": {
        "id": "okSRqElDpxod"
      }
    },
    {
      "cell_type": "markdown",
      "source": [
        "### II.1. Implementing KMeans class"
      ],
      "metadata": {
        "id": "3o-D4s9uqKOv"
      }
    },
    {
      "cell_type": "code",
      "source": [
        "# Constructing KMeans class\n",
        "class KMeanSelf:\n",
        "  '''\n",
        "  Parameters\n",
        "  ----------------------\n",
        "  K: number of clusters, int, default 3\n",
        "\n",
        "  conv_tol: convergence toleration, float, default 0.02, 0 < conv_tol < 1\n",
        "\n",
        "  max_iter: max_iteration, int, default 10000\n",
        "\n",
        "  Attributes\n",
        "  ----------------------\n",
        "  cluster_centers_: K cluster centers coordinates, if the algorithm stops before fully converging (see conv_tol and max_iter), these will not be consistent with labels_.\n",
        "\n",
        "  labels_ : labels of fit X\n",
        "\n",
        "  n_iters_: numbers of iterations needed to complete fitting\n",
        "\n",
        "  inertia_:  Sum of squared distances of samples to their closest cluster center\n",
        "\n",
        "  Methods:\n",
        "  -----------------------\n",
        "  - fit: method to train the K-Means model on the input data.\n",
        "\n",
        "  - transform: method to transform input data to a cluster-distance space.\n",
        "\n",
        "  - predict: method to predict cluster labels for new data points.\n",
        "\n",
        "  - fit_transform: method to compute clustering and transform X to cluster-distance space. (Equivalent to fit(X).transform(X), but more efficiently implemented).\n",
        "\n",
        "  - fit_predict: method to compute cluster centers and predict cluster index for each sample. (Convenience method; equivalent to calling fit(X) followed by predict(X)).\n",
        "  '''\n",
        "  def __init__(self, K: int=3, conv_tol: float = 0.02, max_iter: int = 10000):\n",
        "    # Parameters\n",
        "    self.K = K\n",
        "    self.conv_tol = conv_tol\n",
        "    self.max_iter = max_iter\n",
        "    # Attributes\n",
        "    self.cluster_centers_ = Nonxe\n",
        "    self.labels_ = None\n",
        "    self.n_iters_ = 0\n",
        "    self.inertia_ = 0\n",
        "\n",
        "  def __initialize_centroids(self, X):\n",
        "    ids = np.random.permutation(X.shape[0])\n",
        "    centroids = X[ids[:self.K]]\n",
        "    return centroids\n",
        "\n",
        "  def __update_centroids(self, X  ):\n",
        "    return np.array([X[self.labels_ == k].mean(axis=0) for k in range(self.K)])\n",
        "\n",
        "  def __compute_dist_percent(self, prev_centroids):\n",
        "    if self.K == 1: return 0\n",
        "    dists = []\n",
        "    for i in range(self.K - 1):\n",
        "      for j in range(i+1, self.K):\n",
        "        dists.append(math.dist(self.cluster_centers_[i], self.cluster_centers_[j]))\n",
        "    self.inertia_ = min(dists)\n",
        "    return max([math.dist(self.cluster_centers_[i], prev_centroids[i]) for i in range(self.K)]) / self.inertia_\n",
        "\n",
        "  def fit(self, X):\n",
        "    # init centroids\n",
        "    self.cluster_centers_ = self.__initialize_centroids(X)\n",
        "    prev_centroids = np.zeros((self.K, X.shape[1]))\n",
        "    # training\n",
        "    while True:\n",
        "        # compute distances from X_i to centroids\n",
        "        distances = distance.cdist(X, self.cluster_centers_) # shape: (N, K)\n",
        "        # assign new labels\n",
        "        self.labels_ = np.argmin(distances, axis = 1)\n",
        "        # check convergence\n",
        "        if (self.__compute_dist_percent(prev_centroids) <= self.conv_tol) or self.n_iters_ >= self.max_iter:\n",
        "            break\n",
        "        prev_centroids = self.cluster_centers_\n",
        "        self.cluster_centers_ = self.__update_centroids(X)\n",
        "        # increase iteration count\n",
        "        self.n_iters_ += 1\n",
        "    return self\n",
        "\n",
        "  def transform(self, X):\n",
        "    return np.array([[np.linalg.norm(X[i] - self.cluster_centers_[k]) for k in range(self.K)] for i in range(X.shape[0])])\n",
        "\n",
        "  def predict(self, X):\n",
        "    return np.argmin(distance.cdist(X, self.cluster_centers_), axis = 1)\n",
        "\n",
        "  def fit_transform(self, X):\n",
        "    self.fit(X)\n",
        "    return self.transform(X)\n",
        "\n",
        "  def fit_predict(self, X):\n",
        "    self.fit(X)\n",
        "    return self.predict(X)\n",
        "\n"
      ],
      "metadata": {
        "id": "L-AdAdhj7LML"
      },
      "execution_count": null,
      "outputs": []
    },
    {
      "cell_type": "markdown",
      "source": [
        "### III.2. Train data using the implemented model"
      ],
      "metadata": {
        "id": "v7R4lC2eqQOU"
      }
    },
    {
      "cell_type": "code",
      "source": [
        "from sklearn.model_selection import train_test_split\n",
        "X_train, X_test, y_train, y_test = train_test_split(X, y, test_size = 0.2, random_state = 54)"
      ],
      "metadata": {
        "id": "kixYUV_kRWIs"
      },
      "execution_count": null,
      "outputs": []
    },
    {
      "cell_type": "code",
      "source": [
        "kmself = KMeanSelf(K = 3, conv_tol = 0.02, max_iter = 100)\n",
        "X_new = kmself.fit_transform(X_train)\n",
        "y_train_pred = kmself.predict(X_train)"
      ],
      "metadata": {
        "id": "jsxmX6CtjCmp"
      },
      "execution_count": null,
      "outputs": []
    },
    {
      "cell_type": "markdown",
      "source": [
        "## III. Testing and Validation"
      ],
      "metadata": {
        "id": "6yaXA03MmZg4"
      }
    },
    {
      "cell_type": "markdown",
      "source": [
        "### III.1. Test KMeans class with test set"
      ],
      "metadata": {
        "id": "IVTfA6_DmfvT"
      }
    },
    {
      "cell_type": "code",
      "source": [
        "y_pred = kmself.predict(X_test)\n",
        "y_pred"
      ],
      "metadata": {
        "colab": {
          "base_uri": "https://localhost:8080/"
        },
        "id": "s-9TjXAqmv09",
        "outputId": "25b72358-cb2f-4581-e195-2a59f1716f2c"
      },
      "execution_count": null,
      "outputs": [
        {
          "output_type": "execute_result",
          "data": {
            "text/plain": [
              "array([1, 0, 0, 1, 1, 1, 1, 1, 1, 1, 1, 2, 1, 1, 1, 1, 1, 2, 1, 1, 1, 1,\n",
              "       1, 2, 1, 1, 1, 0, 1, 1, 1, 2, 1, 1, 1, 1, 1, 1, 1, 1, 1, 1, 2, 1,\n",
              "       1, 1, 2, 1, 2, 2, 1, 0, 1, 1, 1, 0, 0, 1, 2, 1, 0, 2, 1, 2, 1, 1,\n",
              "       2, 2, 1, 0, 1, 1, 1, 1, 1, 1, 1, 1, 1, 2, 1, 1, 1, 1, 2, 2, 1, 2,\n",
              "       1, 1, 2, 1, 2, 1, 1, 1, 0, 1, 2, 1, 1, 2, 0, 1, 1, 1, 1, 1, 1, 1,\n",
              "       1, 1, 2, 1, 1, 0, 0, 0, 1, 1, 1, 0, 1, 1, 2, 1, 0, 1, 1, 1, 2, 0,\n",
              "       1, 0, 1, 1, 1, 1, 0, 1, 2, 1, 2, 0, 1, 1, 2, 2, 1, 1, 0, 1, 1, 1,\n",
              "       2, 1])"
            ]
          },
          "metadata": {},
          "execution_count": 10
        }
      ]
    },
    {
      "cell_type": "markdown",
      "source": [
        "### III.2. Validate model correctness by comparing results with sklearn's KMeans model"
      ],
      "metadata": {
        "id": "0NiEuE7qm5bt"
      }
    },
    {
      "cell_type": "code",
      "source": [
        "from sklearn.cluster import KMeans\n",
        "km = KMeans(n_clusters = 3)\n",
        "km.fit_transform(X_train)\n",
        "km.predict(X_test)"
      ],
      "metadata": {
        "colab": {
          "base_uri": "https://localhost:8080/"
        },
        "id": "AoPCIbfCXq5e",
        "outputId": "2eac88d3-ce71-4a15-d686-63e293577736"
      },
      "execution_count": null,
      "outputs": [
        {
          "output_type": "stream",
          "name": "stderr",
          "text": [
            "/usr/local/lib/python3.10/dist-packages/sklearn/cluster/_kmeans.py:870: FutureWarning: The default value of `n_init` will change from 10 to 'auto' in 1.4. Set the value of `n_init` explicitly to suppress the warning\n",
            "  warnings.warn(\n"
          ]
        },
        {
          "output_type": "execute_result",
          "data": {
            "text/plain": [
              "array([2, 1, 1, 2, 2, 2, 2, 2, 2, 2, 2, 0, 2, 2, 2, 2, 2, 0, 2, 2, 2, 2,\n",
              "       2, 0, 2, 2, 2, 1, 2, 2, 2, 0, 2, 2, 2, 2, 2, 2, 2, 2, 2, 2, 0, 2,\n",
              "       2, 2, 0, 2, 0, 0, 2, 1, 2, 2, 2, 1, 1, 2, 0, 2, 1, 0, 2, 0, 2, 2,\n",
              "       2, 0, 2, 1, 2, 2, 2, 2, 2, 2, 2, 2, 2, 0, 2, 2, 2, 2, 0, 0, 2, 0,\n",
              "       2, 2, 0, 2, 0, 2, 2, 2, 1, 2, 0, 2, 2, 0, 1, 2, 2, 2, 2, 2, 2, 2,\n",
              "       2, 2, 0, 2, 2, 1, 1, 2, 2, 2, 2, 1, 2, 2, 0, 2, 1, 2, 2, 2, 0, 1,\n",
              "       2, 1, 2, 2, 2, 2, 1, 2, 0, 2, 0, 1, 2, 2, 0, 0, 2, 2, 1, 2, 2, 2,\n",
              "       0, 2], dtype=int32)"
            ]
          },
          "metadata": {},
          "execution_count": 11
        }
      ]
    },
    {
      "cell_type": "markdown",
      "source": [
        "Comparing the 2 model, we can see the different prediction and both follows the similar pattern. This is because both KMeans have randomness when implementing which results in different label predictions while both pattern are similar to each other. This may result in very low accuracy for the model evaluation.\n",
        "\n",
        "The solution is to set random_state to a constant number until the prediction goes on our way (at least 75% accuracy score for y prediction from both models)."
      ],
      "metadata": {
        "id": "t0eWCA4pnGrL"
      }
    },
    {
      "cell_type": "code",
      "source": [
        "rd = 0\n",
        "acc = 0\n",
        "while True:\n",
        "  km = KMeans(n_clusters = 3, random_state = rd, n_init = 10)\n",
        "  km.fit_transform(X_train)\n",
        "  y_km_pred = km.predict(X_test)\n",
        "  acc = accuracy_score(y_km_pred, y_pred)\n",
        "  if (acc > 0.75): break\n",
        "  rd += 1\n",
        "\n",
        "print(f'The 2 models have {acc * 100}% similarity for a random_state of {rd}')\n",
        "y_km_pred"
      ],
      "metadata": {
        "colab": {
          "base_uri": "https://localhost:8080/"
        },
        "id": "zz1CXiLUo3iI",
        "outputId": "4e37dff6-0a95-4b5f-b07d-8174b5cf7e01"
      },
      "execution_count": null,
      "outputs": [
        {
          "output_type": "stream",
          "name": "stdout",
          "text": [
            "The 2 models have 98.71794871794873% similarity for a random_state of 2\n"
          ]
        },
        {
          "output_type": "execute_result",
          "data": {
            "text/plain": [
              "array([1, 0, 0, 1, 1, 1, 1, 1, 1, 1, 1, 2, 1, 1, 1, 1, 1, 2, 1, 1, 1, 1,\n",
              "       1, 2, 1, 1, 1, 0, 1, 1, 1, 2, 1, 1, 1, 1, 1, 1, 1, 1, 1, 1, 2, 1,\n",
              "       1, 1, 2, 1, 2, 2, 1, 0, 1, 1, 1, 0, 0, 1, 2, 1, 0, 2, 1, 2, 1, 1,\n",
              "       1, 2, 1, 0, 1, 1, 1, 1, 1, 1, 1, 1, 1, 2, 1, 1, 1, 1, 2, 2, 1, 2,\n",
              "       1, 1, 2, 1, 2, 1, 1, 1, 0, 1, 2, 1, 1, 2, 0, 1, 1, 1, 1, 1, 1, 1,\n",
              "       1, 1, 2, 1, 1, 0, 0, 1, 1, 1, 1, 0, 1, 1, 2, 1, 0, 1, 1, 1, 2, 0,\n",
              "       1, 0, 1, 1, 1, 1, 0, 1, 2, 1, 2, 0, 1, 1, 2, 2, 1, 1, 0, 1, 1, 1,\n",
              "       2, 1], dtype=int32)"
            ]
          },
          "metadata": {},
          "execution_count": 13
        }
      ]
    },
    {
      "cell_type": "markdown",
      "source": [],
      "metadata": {
        "id": "GwTo8zLQmXvs"
      }
    },
    {
      "cell_type": "markdown",
      "source": [
        "### III.3. Experimenting with different K"
      ],
      "metadata": {
        "id": "BLR99joArCym"
      }
    },
    {
      "cell_type": "code",
      "source": [
        "k_inertia = [KMeanSelf(K = k).fit(X_train).inertia_ for k in range(2, math.floor(math.sqrt(X.shape[0])))]\n",
        "\n",
        "plt.plot(np.arange(2, math.floor(math.sqrt(X.shape[0]))), k_inertia, marker = '.', linestyle = '-')\n",
        "plt.xlabel('Number of clusters (K)')\n",
        "plt.ylabel('Inertia')\n",
        "plt.title('Inertia by number of clusters')"
      ],
      "metadata": {
        "colab": {
          "base_uri": "https://localhost:8080/",
          "height": 489
        },
        "id": "iyO6iXfmrH2W",
        "outputId": "edd6c483-501e-4b05-a713-8d682e27a1f2"
      },
      "execution_count": null,
      "outputs": [
        {
          "output_type": "execute_result",
          "data": {
            "text/plain": [
              "Text(0.5, 1.0, 'Inertia by number of clusters')"
            ]
          },
          "metadata": {},
          "execution_count": 14
        },
        {
          "output_type": "display_data",
          "data": {
            "text/plain": [
              "<Figure size 640x480 with 1 Axes>"
            ],
            "image/png": "[encoded data removed]"
          },
          "metadata": {}
        }
      ]
    },
    {
      "cell_type": "markdown",
      "source": [
        "As the plot shows, with elbow method, 6 centroids is the optimal value for KMeans"
      ],
      "metadata": {
        "id": "sd8I3-ZL8lzp"
      }
    },
    {
      "cell_type": "code",
      "source": [
        "# KMeans model with K = 6\n",
        "y_train_6_pred = KMeanSelf(K = 6).fit_predict(X_train)"
      ],
      "metadata": {
        "id": "8naV2R2f9Xg3"
      },
      "execution_count": null,
      "outputs": []
    },
    {
      "cell_type": "markdown",
      "source": [
        "Using PCA for visualizing data"
      ],
      "metadata": {
        "id": "qw1TFEd1ldXH"
      }
    },
    {
      "cell_type": "code",
      "source": [
        "from sklearn.decomposition import PCA\n",
        "from sklearn.preprocessing import StandardScaler\n",
        "\n",
        "pca = PCA(n_components=2)\n",
        "sc = StandardScaler()\n",
        "X_scaled = sc.fit_transform(X_train)\n",
        "\n",
        "colors = ['b', 'c', 'y', 'm', 'r', 'g']\n",
        "PCs = pca.fit_transform(X_scaled)\n",
        "for i in range(1, 7):\n",
        "  ix = np.where(y_train_6_pred == i)\n",
        "  plt.scatter(PCs[ix, 0], PCs[ix, 1], c = colors[i-1], label = i)\n",
        "  plt.title('Visualize KMeans prediction (for K = 6) using PCA')\n",
        "  plt.xlabel('Principal component 1')\n",
        "  plt.ylabel('Principal component 2')\n",
        "  plt.legend()"
      ],
      "metadata": {
        "colab": {
          "base_uri": "https://localhost:8080/",
          "height": 472
        },
        "id": "VTaAwMGIkQJ1",
        "outputId": "c054830c-1020-4f5c-b4f1-f52082bb2280"
      },
      "execution_count": null,
      "outputs": [
        {
          "output_type": "display_data",
          "data": {
            "text/plain": [
              "<Figure size 640x480 with 1 Axes>"
            ],
            "image/png": "[encoded data removed]"
          },
          "metadata": {}
        }
      ]
    }
  ]
}